{
 "cells": [
  {
   "cell_type": "code",
   "execution_count": 1,
   "id": "3c6c130b",
   "metadata": {},
   "outputs": [],
   "source": [
    "import pandas as pd\n",
    "import smtplib, ssl\n",
    "ssl._create_default_https_context = ssl._create_unverified_context\n",
    "from email.mime.text import MIMEText\n",
    "from email.mime.multipart import MIMEMultipart\n",
    "import json\n",
    "import requests\n",
    "!sqlite3 TBD307.db < TBD307.sql\n",
    "import sqlite3\n",
    "from datetime import date"
   ]
  },
  {
   "cell_type": "code",
   "execution_count": 2,
   "id": "94f1a89b",
   "metadata": {},
   "outputs": [],
   "source": [
    "# cycle through days\n",
    "date = date.today()\n",
    "# get weather info \n",
    "f = r\"http://api.openweathermap.org/data/2.5/weather?q=Ames&appid=32d018663eb19deb360c0548ce6e4e46\"\n",
    "response = requests.get(f)\n",
    "data_struct = json.loads(response.text)\n",
    "temp_f = (data_struct['main']['temp'] - 273.15) * 9/5 + 32\n",
    "temp_f = round(temp_f)\n",
    "condition = data_struct['weather'][0]['main']\n",
    "\n",
    "# store info into df"
   ]
  },
  {
   "cell_type": "code",
   "execution_count": 3,
   "id": "940008d7",
   "metadata": {},
   "outputs": [],
   "source": [
    "connection = sqlite3.connect('TBD307.db')"
   ]
  },
  {
   "cell_type": "code",
   "execution_count": 4,
   "id": "8a9f1f84",
   "metadata": {},
   "outputs": [],
   "source": [
    "connection.execute(f\"\"\"INSERT INTO weather (date, temp, condition) VALUES ('{date}','{temp_f}','{condition}')\"\"\")\n",
    "df = pd.read_sql('SELECT * FROM weather', connection)"
   ]
  },
  {
   "cell_type": "code",
   "execution_count": 7,
   "id": "2576e296",
   "metadata": {},
   "outputs": [
    {
     "data": {
      "text/html": [
       "<div>\n",
       "<style scoped>\n",
       "    .dataframe tbody tr th:only-of-type {\n",
       "        vertical-align: middle;\n",
       "    }\n",
       "\n",
       "    .dataframe tbody tr th {\n",
       "        vertical-align: top;\n",
       "    }\n",
       "\n",
       "    .dataframe thead th {\n",
       "        text-align: right;\n",
       "    }\n",
       "</style>\n",
       "<table border=\"1\" class=\"dataframe\">\n",
       "  <thead>\n",
       "    <tr style=\"text-align: right;\">\n",
       "      <th></th>\n",
       "      <th>date</th>\n",
       "      <th>temp</th>\n",
       "      <th>condition</th>\n",
       "    </tr>\n",
       "  </thead>\n",
       "  <tbody>\n",
       "    <tr>\n",
       "      <th>0</th>\n",
       "      <td>2022-04-28</td>\n",
       "      <td>62</td>\n",
       "      <td>Clear</td>\n",
       "    </tr>\n",
       "  </tbody>\n",
       "</table>\n",
       "</div>"
      ],
      "text/plain": [
       "         date  temp condition\n",
       "0  2022-04-28    62     Clear"
      ]
     },
     "execution_count": 7,
     "metadata": {},
     "output_type": "execute_result"
    }
   ],
   "source": [
    "df"
   ]
  },
  {
   "cell_type": "code",
   "execution_count": 6,
   "id": "7cecbdb1",
   "metadata": {},
   "outputs": [],
   "source": [
    "port = 465  # For SSL\n",
    "#smtp_server = \"smtp.gmail.com\"\n",
    "smtpserver = smtplib.SMTP(\"smtp.gmail.com\",587)\n",
    "sender_email = \"tbdproject307@gmail.com\"  # Enter your address\n",
    "receiver_email = \"mcelmee20@gmail.com\"  # Enter receiver address\n",
    "password = 'testing307!'\n",
    "message = MIMEMultipart(\"alternative\")\n",
    "message[\"Subject\"] = \"weather test\"\n",
    "#smtpserver.ehlo()\n",
    "#smtpserver.starttls()\n",
    "#smtpserver.ehlo() # extra characters to permit edit\n",
    "#smtpserver.login(sender_email, password)\n",
    "text = \"\"\"\\\n",
    "AND TODAYS WEATHER ISSSSSSSS:\"\"\"\n",
    "html = f'{df}'\n",
    "# Turn these into plain/html MIMEText objects\n",
    "part1 = MIMEText(text, \"plain\")\n",
    "part2 = MIMEText(html, \"html\")\n",
    "\n",
    "# Add HTML/plain-text parts to MIMEMultipart message\n",
    "# The email client will try to render the last part first\n",
    "message.attach(part1)\n",
    "message.attach(part2)\n",
    "\n",
    "\n",
    "context = ssl.create_default_context()\n",
    "with smtplib.SMTP_SSL(\"smtp.gmail.com\", 465, context=context) as server:\n",
    "    server.login(sender_email, password)\n",
    "    server.sendmail(\n",
    "        sender_email, receiver_email, message.as_string()\n",
    "    )"
   ]
  }
 ],
 "metadata": {
  "kernelspec": {
   "display_name": "Python 3 (ipykernel)",
   "language": "python",
   "name": "python3"
  },
  "language_info": {
   "codemirror_mode": {
    "name": "ipython",
    "version": 3
   },
   "file_extension": ".py",
   "mimetype": "text/x-python",
   "name": "python",
   "nbconvert_exporter": "python",
   "pygments_lexer": "ipython3",
   "version": "3.9.7"
  }
 },
 "nbformat": 4,
 "nbformat_minor": 5
}
